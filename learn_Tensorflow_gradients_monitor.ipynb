{
 "cells": [
  {
   "cell_type": "code",
   "execution_count": 1,
   "metadata": {
    "collapsed": false
   },
   "outputs": [
    {
     "name": "stderr",
     "output_type": "stream",
     "text": [
      "//anaconda/lib/python3.5/site-packages/pandas/computation/__init__.py:19: UserWarning: The installed version of numexpr 2.4.4 is not supported in pandas and will be not be used\n",
      "\n",
      "  UserWarning)\n"
     ]
    }
   ],
   "source": [
    "import tensorflow as tf\n",
    "import numpy as np\n",
    "\n",
    "# x and y are placeholders for our training data\n",
    "x = tf.placeholder(\"float\")\n",
    "y = tf.placeholder(\"float\")\n",
    "# w is the variable storing our values. It is initialised with starting \"guesses\"\n",
    "# w[0] is the \"a\" in our equation, w[1] is the \"b\"\n",
    "w = tf.Variable([1.0, 2.0], name=\"w\")\n",
    "# Our model of y = a*x + b\n",
    "y_model = tf.mul(x, w[0]) + w[1]\n",
    "\n",
    "# Our error is defined as the square of the differences\n",
    "error = tf.square(y - y_model)\n",
    "\n",
    "# The Gradient Descent Optimizer does the heavy lifting\n",
    "#train_op = tf.train.GradientDescentOptimizer(0.05).minimize(error)\n",
    "optimizer = tf.train.GradientDescentOptimizer(0.005)\n",
    "train_op = optimizer.minimize(error)\n",
    "grads_and_vars = optimizer.compute_gradients(error)\n",
    "#applygrads = tf.train.Optimizer.apply_gradients(grads_and_vars, global_step=None, name=None)"
   ]
  },
  {
   "cell_type": "code",
   "execution_count": 2,
   "metadata": {
    "collapsed": false
   },
   "outputs": [
    {
     "name": "stdout",
     "output_type": "stream",
     "text": [
      "grads_and_vars type <class 'list'> len 1\n",
      "grads_and_vars[0] type <class 'tuple'> len(grads_and_vars[1]) 2\n"
     ]
    }
   ],
   "source": [
    "print('grads_and_vars type', type(grads_and_vars),'len',len(grads_and_vars))\n",
    "print('grads_and_vars[0] type', type(grads_and_vars[0]),'len(grads_and_vars[1])', len(grads_and_vars[0]))"
   ]
  },
  {
   "cell_type": "code",
   "execution_count": 3,
   "metadata": {
    "collapsed": false
   },
   "outputs": [
    {
     "data": {
      "text/plain": [
       "1"
      ]
     },
     "execution_count": 3,
     "metadata": {},
     "output_type": "execute_result"
    }
   ],
   "source": [
    "grad_vals = [grad for grad, _ in grads_and_vars]\n",
    "len(grad_vals)"
   ]
  },
  {
   "cell_type": "code",
   "execution_count": 16,
   "metadata": {
    "collapsed": false
   },
   "outputs": [],
   "source": [
    "gnv_placeholder = [(tf.placeholder(\"float\", shape=grad[1].get_shape()), grad[1]) for grad in grads_and_vars]\n",
    "grad_vals = [(tf.placeholder(\"float\", shape=grad[1].get_shape()), grad[1]) for grad in grads_and_vars]\n",
    "applygrads = optimizer.apply_gradients(gnv_placeholder, global_step=None, name=None)"
   ]
  },
  {
   "cell_type": "code",
   "execution_count": 17,
   "metadata": {
    "collapsed": false
   },
   "outputs": [
    {
     "name": "stdout",
     "output_type": "stream",
     "text": [
      "0 w: [ 1.  2.] gr: [array([-32.60342407,  -5.49883652], dtype=float32)] w: [ 2.17742825  2.19858289] loss: [ 98.5880127]\n",
      "100 w: [ 2.63496852  3.23605514] gr: [array([-4.18369436, -1.40703201], dtype=float32)] w: [ 2.68705797  3.25357342] loss: [ 0.76723301]\n",
      "200 w: [ 2.38075972  3.94833589] gr: [array([ 0.43249089,  0.06377029], dtype=float32)] w: [ 2.30878186  3.93772292] loss: [ 0.28159261]\n",
      "300 w: [ 2.20942473  4.4316659 ] gr: [array([-1.26386893, -0.2179985 ], dtype=float32)] w: [ 2.25049162  4.43874931] loss: [ 0.12543763]\n",
      "400 w: [ 2.02887368  4.79890156] gr: [array([-2.42231345, -0.38514709], dtype=float32)] w: [ 2.15711308  4.81929159] loss: [ 1.03938174]\n",
      "500 w: [ 2.19914126  5.10935116] gr: [array([ 0.14847058,  0.03214836], dtype=float32)] w: [ 2.19645858  5.10877037] loss: [ 0.00084356]\n",
      "600 w: [ 2.11051011  5.32675362] gr: [array([ 0.07670961,  0.0114975 ], dtype=float32)] w: [ 2.10196209  5.32547235] loss: [ 0.00410371]\n",
      "700 w: [ 2.07814741  5.49302816] gr: [array([-1.31556332, -0.44734955], dtype=float32)] w: [ 2.09444857  5.4985714 ] loss: [ 0.07681591]\n",
      "800 w: [ 2.06479025  5.6173625 ] gr: [array([-0.19924401, -0.03811646], dtype=float32)] w: [ 2.06938624  5.61824179] loss: [ 0.0019327]\n",
      "900 w: [ 2.06724572  5.70929623] gr: [array([ 0.35109812,  0.05839539], dtype=float32)] w: [ 2.05358458  5.7070241 ] loss: [ 0.01290664]\n",
      "Predicted model: 2.029x + 5.789\n"
     ]
    },
    {
     "name": "stderr",
     "output_type": "stream",
     "text": [
      "//anaconda/lib/python3.5/site-packages/numpy/core/_methods.py:59: RuntimeWarning: Mean of empty slice.\n",
      "  warnings.warn(\"Mean of empty slice.\", RuntimeWarning)\n"
     ]
    },
    {
     "data": {
      "image/png": "[encoded data removed]",
      "text/plain": [
       "<matplotlib.figure.Figure at 0x1237d1c18>"
      ]
     },
     "metadata": {},
     "output_type": "display_data"
    },
    {
     "data": {
      "text/plain": [
       "<matplotlib.figure.Figure at 0x12381acc0>"
      ]
     },
     "metadata": {},
     "output_type": "display_data"
    }
   ],
   "source": [
    "# Normal TensorFlow - initialize values, create a session and run the model\n",
    "model = tf.initialize_all_variables()\n",
    "\n",
    "errors = []\n",
    "with tf.Session() as session:\n",
    "    session.run(model)\n",
    "    #Start of loop\n",
    "    for i in range(1000):\n",
    "        x_train = tf.random_normal((1,), mean=5, stddev=2.0)\n",
    "        y_train = x_train * 2 + 6\n",
    "        \n",
    "        x_value, y_value = session.run([x_train, y_train])\n",
    "        w_b = session.run(w)\n",
    "        \n",
    "        _, error_value = session.run([train_op, error], feed_dict={x: x_value, y: y_value})\n",
    "        \n",
    "        errors.append(error_value)\n",
    "\n",
    "        if i % 100 == 0:\n",
    "            grads_and_vars = optimizer.compute_gradients(error)\n",
    "            grad_vals = session.run([grad for grad, _ in grads_and_vars], feed_dict={x: x_value, y: y_value})\n",
    "            w_a = session.run(w)\n",
    "            #print(i, 'gr:',grad_vals,'loss:',error_value,'w:', w_value)\n",
    "            print(i, 'w:', w_b, 'gr:',grad_vals,'w:', w_a, 'loss:',error_value,)\n",
    "            \n",
    "    # End of loop     \n",
    "    w_value = session.run(w)\n",
    "    print(\"Predicted model: {a:.3f}x + {b:.3f}\".format(a=w_value[0], b=w_value[1]))\n",
    "\n",
    "import matplotlib.pyplot as plt\n",
    "%matplotlib inline \n",
    "plt.plot([np.mean(errors[i-50:i]) for i in range(len(errors))])\n",
    "plt.show()\n",
    "plt.savefig(\"errors.png\")"
   ]
  },
  {
   "cell_type": "code",
   "execution_count": null,
   "metadata": {
    "collapsed": true
   },
   "outputs": [],
   "source": []
  }
 ],
 "metadata": {
  "kernelspec": {
   "display_name": "Python 3",
   "language": "python",
   "name": "python3"
  },
  "language_info": {
   "codemirror_mode": {
    "name": "ipython",
    "version": 3
   },
   "file_extension": ".py",
   "mimetype": "text/x-python",
   "name": "python",
   "nbconvert_exporter": "python",
   "pygments_lexer": "ipython3",
   "version": "3.5.1"
  }
 },
 "nbformat": 4,
 "nbformat_minor": 0
}
